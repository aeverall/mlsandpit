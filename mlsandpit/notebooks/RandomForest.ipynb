{
 "cells": [
  {
   "cell_type": "code",
   "execution_count": 1,
   "id": "88045508",
   "metadata": {},
   "outputs": [],
   "source": [
    "%load_ext autoreload\n",
    "%autoreload 2\n",
    "%config Completer.use_jedi = False"
   ]
  },
  {
   "cell_type": "code",
   "execution_count": 2,
   "id": "a3037c1d",
   "metadata": {},
   "outputs": [],
   "source": [
    "import sys, os, numpy as np, pandas as pd\n",
    "\n",
    "import matplotlib as mpl\n",
    "mpl.rcParams['figure.dpi'] = 200\n",
    "mpl.rcParams['mathtext.fontset'] = 'stix'\n",
    "mpl.rcParams['font.family'] = 'STIXGeneral'\n",
    "import matplotlib.pyplot as plt\n",
    "from pylab import cm\n",
    "from matplotlib.colors import LogNorm\n",
    "import matplotlib\n",
    "\n",
    "plt.rc('axes', labelsize=16)\n",
    "plt.rc('xtick',labelsize=16)\n",
    "plt.rc('ytick',labelsize=16)\n",
    "plt.rc('legend',fontsize=16)"
   ]
  },
  {
   "cell_type": "markdown",
   "id": "40e532b5",
   "metadata": {},
   "source": [
    "### Dataset"
   ]
  },
  {
   "cell_type": "code",
   "execution_count": 3,
   "id": "73c1ddb5",
   "metadata": {},
   "outputs": [],
   "source": [
    "from sklearn.datasets import load_iris, load_diabetes\n",
    "from sklearn.model_selection import train_test_split\n",
    "from sklearn import tree"
   ]
  },
  {
   "cell_type": "code",
   "execution_count": 4,
   "id": "d523d6e9",
   "metadata": {},
   "outputs": [],
   "source": [
    "# We'll load in the standard iris dataset from scikit-learn\n",
    "iris = load_iris()\n",
    "X_train, X_test, y_train, y_test = train_test_split(iris.data, iris.target,\n",
    "                                                    test_size=0.5, random_state=42)"
   ]
  },
  {
   "cell_type": "markdown",
   "id": "7627d776",
   "metadata": {},
   "source": [
    "### First - decision trees - this is how sklearn performs on the data, we'll try to replicate it"
   ]
  },
  {
   "cell_type": "code",
   "execution_count": 5,
   "id": "13a197a9",
   "metadata": {},
   "outputs": [
    {
     "name": "stdout",
     "output_type": "stream",
     "text": [
      "Accuracy: 94.7%\n"
     ]
    }
   ],
   "source": [
    "clf = tree.DecisionTreeClassifier()\n",
    "clf = clf.fit(X_train, y_train)\n",
    "\n",
    "print(f\"Accuracy: {100*np.sum(clf.predict(X_test)==y_test)/len(y_test):.1f}%\")"
   ]
  },
  {
   "cell_type": "markdown",
   "id": "1df39873",
   "metadata": {},
   "source": [
    "# Single-parameter Decision Tree"
   ]
  },
  {
   "cell_type": "code",
   "execution_count": 6,
   "id": "12197f64",
   "metadata": {},
   "outputs": [],
   "source": [
    "# Get data with only the 0th parameter\n",
    "X_train, X_test, y_train, y_test = train_test_split(iris.data, iris.target,\n",
    "                                                    test_size=0.5, random_state=42)\n",
    "X_train = X_train[:,0]\n",
    "X_test = X_test[:,0]"
   ]
  },
  {
   "cell_type": "code",
   "execution_count": 7,
   "id": "b0bc26d6",
   "metadata": {},
   "outputs": [],
   "source": [
    "def train_layer(X, y, idxs, layer=0, max_layers=1):\n",
    "    \n",
    "    # Exit if only one unique parameter or target or if we've reached the maximum number of layers\n",
    "    if (len(np.unique(X))==1) | (len(np.unique(y))==1) | (layer==max_layers):\n",
    "        # Return the class with the most entries in this subset\n",
    "        targets, counts = np.unique(y, return_counts=True)\n",
    "        return targets[np.argmax(counts)], np.nan\n",
    "    \n",
    "    \n",
    "    # Set cut and select subset - here we're just going to use the mean of the\n",
    "    # parameter value as a cut for simplicity\n",
    "    cut = np.mean(X)\n",
    "    subset = X>cut\n",
    "    \n",
    "    no = train_layer(X[~subset], y[~subset], idxs[~subset], \n",
    "                    layer=layer+1, max_layers=max_layers)\n",
    "    yes = train_layer(X[subset], y[subset], idxs[subset], \n",
    "                    layer=layer+1, max_layers=max_layers)\n",
    "    \n",
    "    tree = {'no':no[0], 'yes':yes[0]}\n",
    "    cuts = {cut:[no[1], yes[1]]}\n",
    "    \n",
    "    return tree, cuts"
   ]
  },
  {
   "cell_type": "code",
   "execution_count": 8,
   "id": "b30c3e3d",
   "metadata": {},
   "outputs": [
    {
     "data": {
      "text/plain": [
       "({'no': {'no': 0, 'yes': 1}, 'yes': {'no': 2, 'yes': 2}},\n",
       " {5.848: [{5.137837837837838: [nan, nan]}, {6.5394736842105265: [nan, nan]}]})"
      ]
     },
     "execution_count": 8,
     "metadata": {},
     "output_type": "execute_result"
    }
   ],
   "source": [
    "# Build the tree\n",
    "target_tree, cut_tree = train_layer(X_train, y_train, np.arange(len(y_train)), layer=0, max_layers=2)\n",
    "target_tree, cut_tree"
   ]
  },
  {
   "cell_type": "code",
   "execution_count": 9,
   "id": "196220b4",
   "metadata": {},
   "outputs": [],
   "source": [
    "def predict_layer(X, values, tree, cuts, target_type=int):\n",
    "    \n",
    "    # Return target value if we've reached that in the tree\n",
    "    if isinstance(tree, target_type):\n",
    "        return tree\n",
    "    \n",
    "    # Get cut from the cut tree\n",
    "    cut = list(cuts.keys())[0]\n",
    "    subset = X>cut\n",
    "    \n",
    "    # Get target values from next layer down in tree\n",
    "    values[~subset]=predict_layer(X[~subset], values[~subset], \n",
    "                                     tree['no'], cuts[cut][0], \n",
    "                                     target_type=target_type)\n",
    "    values[subset]=predict_layer(X[subset], values[subset], \n",
    "                                     tree['yes'], cuts[cut][1], \n",
    "                                     target_type=target_type)\n",
    "    \n",
    "    return values"
   ]
  },
  {
   "cell_type": "code",
   "execution_count": 10,
   "id": "426646ff",
   "metadata": {},
   "outputs": [],
   "source": [
    "values = np.zeros(len(y_test), dtype=int)-1\n",
    "y_predict = predict_layer(X_test, values, target_tree, cut_tree, target_type=type(y_train[0]))"
   ]
  },
  {
   "cell_type": "code",
   "execution_count": 11,
   "id": "dd2f73dc",
   "metadata": {},
   "outputs": [
    {
     "data": {
      "text/plain": [
       "array([2, 1, 2, 2, 2, 1, 1, 2, 2, 1, 2, 0, 1, 0, 0, 2, 2, 1, 1, 2, 0, 2,\n",
       "       0, 2, 2, 2, 2, 2, 0, 0, 0, 1, 2, 0, 0, 2, 2, 1, 0, 1, 1, 2, 2, 1,\n",
       "       1, 1, 2, 2, 2, 2, 1, 2, 1, 0, 2, 1, 1, 0, 0, 0, 2, 0, 0, 0, 1, 0,\n",
       "       1, 2, 0, 2, 1, 1, 2, 1, 2])"
      ]
     },
     "execution_count": 11,
     "metadata": {},
     "output_type": "execute_result"
    }
   ],
   "source": [
    "y_predict"
   ]
  },
  {
   "cell_type": "code",
   "execution_count": 12,
   "id": "760101b4",
   "metadata": {},
   "outputs": [
    {
     "data": {
      "text/plain": [
       "array([1, 0, 2, 1, 1, 0, 1, 2, 1, 1, 2, 0, 0, 0, 0, 1, 2, 1, 1, 2, 0, 2,\n",
       "       0, 2, 2, 2, 2, 2, 0, 0, 0, 0, 1, 0, 0, 2, 1, 0, 0, 0, 2, 1, 1, 0,\n",
       "       0, 1, 2, 2, 1, 2, 1, 2, 1, 0, 2, 1, 0, 0, 0, 1, 2, 0, 0, 0, 1, 0,\n",
       "       1, 2, 0, 1, 2, 0, 2, 2, 1])"
      ]
     },
     "execution_count": 12,
     "metadata": {},
     "output_type": "execute_result"
    }
   ],
   "source": [
    "y_test"
   ]
  },
  {
   "cell_type": "code",
   "execution_count": 13,
   "id": "ad65a593",
   "metadata": {},
   "outputs": [
    {
     "name": "stdout",
     "output_type": "stream",
     "text": [
      "Accuracy: 65.3%\n"
     ]
    }
   ],
   "source": [
    "print(f\"Accuracy: {100*np.sum(y_predict==y_test)/len(y_test):.1f}%\")"
   ]
  },
  {
   "cell_type": "markdown",
   "id": "7bff44f6",
   "metadata": {},
   "source": [
    "### Add more layers"
   ]
  },
  {
   "cell_type": "code",
   "execution_count": 14,
   "id": "0a90f540",
   "metadata": {},
   "outputs": [
    {
     "name": "stdout",
     "output_type": "stream",
     "text": [
      "Accuracy: 70.7%\n"
     ]
    }
   ],
   "source": [
    "tree, cuts = train_layer(X_train, y_train, np.arange(len(y_train)), layer=0, max_layers=6)\n",
    "\n",
    "values = np.zeros(len(y_test), dtype=int)-1\n",
    "y_predict = predict_layer(X_test, values, tree, cuts, target_type=type(y_train[0]))\n",
    "\n",
    "print(f\"Accuracy: {100*np.sum(y_predict==y_test)/len(y_test):.1f}%\")"
   ]
  },
  {
   "cell_type": "markdown",
   "id": "94e4fdb0",
   "metadata": {},
   "source": [
    "# Choose which parameter to decide on"
   ]
  },
  {
   "cell_type": "code",
   "execution_count": 15,
   "id": "79b7fa69",
   "metadata": {},
   "outputs": [],
   "source": [
    "# This time we'll use all four parameters in the dataset\n",
    "X_train, X_test, y_train, y_test = train_test_split(iris.data, iris.target,\n",
    "                                                    test_size=0.5, random_state=42)"
   ]
  },
  {
   "cell_type": "code",
   "execution_count": 16,
   "id": "1f613d38",
   "metadata": {},
   "outputs": [],
   "source": [
    "def train_layer(X, y, layer=0, max_layers=1):\n",
    "    \n",
    "    # Exit if only one unique parameter for all parameters or only one unique target\n",
    "    # or if we've reached the maximum number of layers\n",
    "    n_unique = np.array([len(np.unique(X[:,i])) for i in range(X.shape[1])])\n",
    "    if (np.sum(n_unique>1)==0) | (len(np.unique(y))==1) | (layer==max_layers):\n",
    "        # Return the class with the most entries in this subset\n",
    "        targets, counts = np.unique(y, return_counts=True)\n",
    "        return targets[np.argmax(counts)], np.nan, -1\n",
    "    \n",
    "    # Choose which parameter to cut on\n",
    "    param = np.random.choice(np.arange(X.shape[1])[n_unique>1], size=1)[0]\n",
    "    # Select cut\n",
    "    cut = np.mean(X[:,param])\n",
    "    subset = X[:,param]>cut\n",
    "    \n",
    "    # Go to next layer of tree\n",
    "    no = train_layer(X[~subset], y[~subset], layer=layer+1, max_layers=max_layers)\n",
    "    yes = train_layer(X[subset], y[subset], layer=layer+1, max_layers=max_layers)\n",
    "    \n",
    "    tree = {'no':no[0], 'yes':yes[0]}\n",
    "    cuts = {cut:[no[1], yes[1]]}\n",
    "    params = {param:[no[2], yes[2]]}\n",
    "    \n",
    "    return tree, cuts, params"
   ]
  },
  {
   "cell_type": "code",
   "execution_count": 17,
   "id": "c94643b1",
   "metadata": {},
   "outputs": [],
   "source": [
    "target_tree, cut_tree, param_tree = train_layer(X_train, y_train, \n",
    "                                                layer=0, max_layers=4)"
   ]
  },
  {
   "cell_type": "code",
   "execution_count": 18,
   "id": "a38a1276",
   "metadata": {},
   "outputs": [],
   "source": [
    "def predict_layer(X, values, tree, cuts, params, target_type=int):\n",
    "    \n",
    "    # Return target value if we've reached that in the tree\n",
    "    if isinstance(tree, target_type):\n",
    "        return tree\n",
    "    \n",
    "    # Get parameter and cut from the cut tree\n",
    "    param = list(params.keys())[0]\n",
    "    cut = list(cuts.keys())[0]\n",
    "    subset = X[:,param]>cut\n",
    "    \n",
    "    # Get target values from next layer down in tree\n",
    "    values[~subset]=predict_layer(X[~subset], values[~subset], \n",
    "                                     tree['no'], cuts[cut][0], params[param][0],\n",
    "                                     target_type=target_type)\n",
    "    values[subset]=predict_layer(X[subset], values[subset], \n",
    "                                     tree['yes'], cuts[cut][1], params[param][1],\n",
    "                                     target_type=target_type)\n",
    "    \n",
    "    return values"
   ]
  },
  {
   "cell_type": "code",
   "execution_count": 19,
   "id": "74045db1",
   "metadata": {},
   "outputs": [
    {
     "name": "stdout",
     "output_type": "stream",
     "text": [
      "Accuracy: 90.7%\n"
     ]
    }
   ],
   "source": [
    "values = np.zeros(len(y_test), dtype=int)-1\n",
    "y_predict = predict_layer(X_test, values, target_tree, cut_tree, param_tree, target_type=type(y_train[0]))\n",
    "\n",
    "print(f\"Accuracy: {100*np.sum(y_predict==y_test)/len(y_test):.1f}%\")"
   ]
  },
  {
   "cell_type": "markdown",
   "id": "941deab7",
   "metadata": {},
   "source": [
    "### More layers"
   ]
  },
  {
   "cell_type": "code",
   "execution_count": 20,
   "id": "4f7560da",
   "metadata": {},
   "outputs": [
    {
     "name": "stdout",
     "output_type": "stream",
     "text": [
      "Accuracy: 90.66666666666667%\n"
     ]
    }
   ],
   "source": [
    "target_tree, cut_tree, param_tree = train_layer(X_train, y_train, layer=0, max_layers=10)\n",
    "\n",
    "values = np.zeros(len(y_test), dtype=int)-1\n",
    "y_predict = predict_layer(X_test, values, target_tree, cut_tree, param_tree, target_type=type(y_train[0]))\n",
    "\n",
    "print(f\"Accuracy: {100*np.sum(y_predict==y_test)/len(y_test)}%\")"
   ]
  },
  {
   "cell_type": "markdown",
   "id": "394c94bf",
   "metadata": {},
   "source": [
    "# Extend to a forest\n",
    "\n",
    "A forest is a set of decision trees aggregated together to obtain a combined prediction.\n",
    "\n",
    "Each tree is different because we use bootstrap resampling to run on a slightly different sample and there are random processes happening in the tree too."
   ]
  },
  {
   "cell_type": "code",
   "execution_count": 21,
   "id": "5f6cb740",
   "metadata": {},
   "outputs": [],
   "source": [
    "def train_forest(X, y, forest_size=1, max_layers=1):\n",
    "    \n",
    "    forest = []\n",
    "    for i in range(forest_size):\n",
    "\n",
    "        # Bootstrap (random sample with replacement)\n",
    "        train_set = np.random.choice(np.arange(X.shape[0]), size=X.shape[0], replace=True)\n",
    "\n",
    "        # Train tree\n",
    "        target_tree, cut_tree, param_tree = train_layer(X[train_set], y[train_set], \n",
    "                                                        layer=0, max_layers=max_layers)\n",
    "\n",
    "        # Add to forest\n",
    "        forest += [(target_tree, cut_tree, param_tree),]\n",
    "        \n",
    "    return forest"
   ]
  },
  {
   "cell_type": "code",
   "execution_count": 22,
   "id": "be95d5a0",
   "metadata": {},
   "outputs": [],
   "source": [
    "forest = train_forest(X_train, y_train, forest_size=10, max_layers=10)"
   ]
  },
  {
   "cell_type": "code",
   "execution_count": 23,
   "id": "6e38a5b9",
   "metadata": {},
   "outputs": [],
   "source": [
    "def predict(X, forest):\n",
    "    \n",
    "    predictions = np.zeros((len(forest), X.shape[0]), dtype=int)\n",
    "    for i, tree in enumerate(forest):\n",
    "\n",
    "        # Bootstrap (random sample with replacement)\n",
    "        predictions[i] = predict_layer(X, values, tree[0], tree[1], tree[2], target_type=type(y_train[0]))\n",
    "    \n",
    "    # Aggregate predictions and take modal class in each cast\n",
    "    classes = np.unique(predictions)\n",
    "    aggregated = np.array([np.sum(predictions==i, axis=0) for i in classes])\n",
    "    y_predict = classes[np.argmax(aggregated, axis=0)]\n",
    "\n",
    "    return y_predict"
   ]
  },
  {
   "cell_type": "code",
   "execution_count": 24,
   "id": "7dcf5e63",
   "metadata": {},
   "outputs": [],
   "source": [
    "y_predict = predict(X_test, forest)"
   ]
  },
  {
   "cell_type": "code",
   "execution_count": 25,
   "id": "fb521389",
   "metadata": {},
   "outputs": [
    {
     "name": "stdout",
     "output_type": "stream",
     "text": [
      "Accuracy: 98.66666666666667%\n"
     ]
    }
   ],
   "source": [
    "print(f\"Accuracy: {100*np.sum(y_predict==y_test)/len(y_test)}%\")"
   ]
  },
  {
   "cell_type": "markdown",
   "id": "cd84e3ff",
   "metadata": {},
   "source": [
    "### How are we doing compared to sklearn?"
   ]
  },
  {
   "cell_type": "code",
   "execution_count": 26,
   "id": "e2bea5c9",
   "metadata": {},
   "outputs": [
    {
     "name": "stdout",
     "output_type": "stream",
     "text": [
      "Accuracy: 98.7%\n"
     ]
    }
   ],
   "source": [
    "from sklearn.ensemble import RandomForestClassifier\n",
    "clf = RandomForestClassifier(max_depth=10, random_state=0)\n",
    "clf.fit(X_train, y_train)\n",
    "\n",
    "print(f\"Accuracy: {100*np.sum(clf.predict(X_test)==y_test)/len(y_test):.1f}%\")"
   ]
  },
  {
   "cell_type": "markdown",
   "id": "876dce43",
   "metadata": {},
   "source": [
    "Awesome, we've built a comparable classifier. \n",
    "\n",
    "Some details to do with how the tree is build - cut choice, tree aggregation etc - may be different but the principles of how to build a random forest classifier are the same."
   ]
  },
  {
   "cell_type": "code",
   "execution_count": null,
   "id": "0ab309d5",
   "metadata": {},
   "outputs": [],
   "source": []
  },
  {
   "cell_type": "code",
   "execution_count": null,
   "id": "36a1fbaf",
   "metadata": {},
   "outputs": [],
   "source": []
  }
 ],
 "metadata": {
  "kernelspec": {
   "display_name": "Python 3 (ipykernel)",
   "language": "python",
   "name": "python3"
  },
  "language_info": {
   "codemirror_mode": {
    "name": "ipython",
    "version": 3
   },
   "file_extension": ".py",
   "mimetype": "text/x-python",
   "name": "python",
   "nbconvert_exporter": "python",
   "pygments_lexer": "ipython3",
   "version": "3.9.9"
  }
 },
 "nbformat": 4,
 "nbformat_minor": 5
}
